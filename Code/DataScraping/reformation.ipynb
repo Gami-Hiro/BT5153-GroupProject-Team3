{
 "cells": [
  {
   "cell_type": "code",
   "execution_count": 121,
   "metadata": {},
   "outputs": [],
   "source": [
    "import requests as r\n",
    "import re\n",
    "from bs4 import BeautifulSoup"
   ]
  },
  {
   "cell_type": "code",
   "execution_count": 122,
   "metadata": {},
   "outputs": [],
   "source": [
    "result  = r.get('https://www.thereformation.com/categories/all-clothing')"
   ]
  },
  {
   "cell_type": "code",
   "execution_count": 123,
   "metadata": {},
   "outputs": [],
   "source": [
    "soup = BeautifulSoup(result.content, 'html.parser')"
   ]
  },
  {
   "cell_type": "code",
   "execution_count": 124,
   "metadata": {},
   "outputs": [],
   "source": [
    "link = soup.find_all(href=re.compile(\"products\"))"
   ]
  },
  {
   "cell_type": "code",
   "execution_count": 125,
   "metadata": {},
   "outputs": [],
   "source": [
    "urls = []\n",
    "str = 'https://www.thereformation.com'\n",
    "for i in link:\n",
    "    urls.append('https://www.thereformation.com'+i['href'])"
   ]
  },
  {
   "cell_type": "code",
   "execution_count": 126,
   "metadata": {},
   "outputs": [
    {
     "data": {
      "text/plain": [
       "111"
      ]
     },
     "execution_count": 126,
     "metadata": {},
     "output_type": "execute_result"
    }
   ],
   "source": [
    "len(urls)"
   ]
  },
  {
   "cell_type": "code",
   "execution_count": 127,
   "metadata": {},
   "outputs": [],
   "source": [
    "img_urls=[]\n",
    "name =[]\n",
    "color = []\n",
    "price = []\n",
    "description = []\n",
    "for i in range(len(urls)):\n",
    "    try:\n",
    "        res = r.get(urls[i])\n",
    "    except:\n",
    "        continue\n",
    "    soup= BeautifulSoup(res.content, 'html.parser')\n",
    "    img=soup.find_all(property ='og:image')[0]['content']\n",
    "    img_urls.append(img)\n",
    "    title = soup.find_all(property ='og:title')[0]['content']\n",
    "    name.append(title)\n",
    "    des = soup.find_all('meta',attrs={'name':'description'})[0]['content']\n",
    "    description.append(des)\n",
    "    p = float(soup.find_all(itemprop=\"price\")[0]['content'])\n",
    "    price.append(p)\n",
    "    co = soup.find_all('div',attrs={'class':'product-detail-container'})[0]['data-analytics']\n",
    "    co = co[(co.index('color')+8):(co.index('breadcrumbs')-3)]\n",
    "    color.append(co)\n",
    "    "
   ]
  },
  {
   "cell_type": "code",
   "execution_count": 131,
   "metadata": {},
   "outputs": [],
   "source": [
    "import pandas as pd \n",
    "data = {'img_urls':img_urls,'name':name,\n",
    "'color':color, 'price':price,'description':description}\n",
    "df = pd.DataFrame(data=data)"
   ]
  },
  {
   "cell_type": "code",
   "execution_count": 133,
   "metadata": {},
   "outputs": [],
   "source": [
    "df.to_csv('/Users/juanhuang/Desktop/reformation.csv')"
   ]
  },
  {
   "cell_type": "code",
   "execution_count": null,
   "metadata": {},
   "outputs": [],
   "source": []
  }
 ],
 "metadata": {
  "kernelspec": {
   "display_name": "Python 3",
   "language": "python",
   "name": "python3"
  },
  "language_info": {
   "codemirror_mode": {
    "name": "ipython",
    "version": 3
   },
   "file_extension": ".py",
   "mimetype": "text/x-python",
   "name": "python",
   "nbconvert_exporter": "python",
   "pygments_lexer": "ipython3",
   "version": "3.7.6"
  }
 },
 "nbformat": 4,
 "nbformat_minor": 4
}
