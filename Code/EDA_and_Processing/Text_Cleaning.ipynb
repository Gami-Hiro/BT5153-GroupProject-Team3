{
 "cells": [
  {
   "cell_type": "markdown",
   "metadata": {},
   "source": [
    "# Text Processing"
   ]
  },
  {
   "cell_type": "markdown",
   "metadata": {},
   "source": [
    "## 0.Import "
   ]
  },
  {
   "cell_type": "code",
   "execution_count": 15,
   "metadata": {},
   "outputs": [],
   "source": [
    "import pandas as pd\n",
    "import numpy as np\n",
    "import matplotlib.pyplot as plt\n",
    "import os"
   ]
  },
  {
   "cell_type": "code",
   "execution_count": 2,
   "metadata": {},
   "outputs": [],
   "source": [
    "# import csv\n",
    "df = pd.read_csv(\"Data_Before_Process.csv\", encoding=\"utf-8-sig\")\n",
    "df = df.dropna(subset=['img_url', 'description'])"
   ]
  },
  {
   "cell_type": "code",
   "execution_count": 3,
   "metadata": {},
   "outputs": [
    {
     "data": {
      "text/html": [
       "<div>\n",
       "<style scoped>\n",
       "    .dataframe tbody tr th:only-of-type {\n",
       "        vertical-align: middle;\n",
       "    }\n",
       "\n",
       "    .dataframe tbody tr th {\n",
       "        vertical-align: top;\n",
       "    }\n",
       "\n",
       "    .dataframe thead th {\n",
       "        text-align: right;\n",
       "    }\n",
       "</style>\n",
       "<table border=\"1\" class=\"dataframe\">\n",
       "  <thead>\n",
       "    <tr style=\"text-align: right;\">\n",
       "      <th></th>\n",
       "      <th>title</th>\n",
       "      <th>img_url</th>\n",
       "      <th>description</th>\n",
       "      <th>sex</th>\n",
       "      <th>material</th>\n",
       "      <th>price</th>\n",
       "      <th>brand</th>\n",
       "      <th>colour</th>\n",
       "    </tr>\n",
       "  </thead>\n",
       "  <tbody>\n",
       "    <tr>\n",
       "      <th>0</th>\n",
       "      <td>MEN Linen Blended Shorts</td>\n",
       "      <td>https://d15udtvdbbfasl.cloudfront.net/catalog/...</td>\n",
       "      <td>A single layer with a natural feel of natural ...</td>\n",
       "      <td>MEN</td>\n",
       "      <td>68% Cotton, 32% Linen</td>\n",
       "      <td>29.9</td>\n",
       "      <td>UNIQLO</td>\n",
       "      <td>Color: COL69 NAVY</td>\n",
       "    </tr>\n",
       "    <tr>\n",
       "      <th>1</th>\n",
       "      <td>MEN Easy Shorts (Printed)</td>\n",
       "      <td>https://d15udtvdbbfasl.cloudfront.net/catalog/...</td>\n",
       "      <td>Light and cool shorts are perfect for relaxing...</td>\n",
       "      <td>MEN</td>\n",
       "      <td>100% Cotton</td>\n",
       "      <td>19.9</td>\n",
       "      <td>UNIQLO</td>\n",
       "      <td>Color: COL37 BROWN</td>\n",
       "    </tr>\n",
       "    <tr>\n",
       "      <th>2</th>\n",
       "      <td>MEN Chino Shorts</td>\n",
       "      <td>https://d15udtvdbbfasl.cloudfront.net/catalog/...</td>\n",
       "      <td>Updated to have a relaxed silhouette. Has a mo...</td>\n",
       "      <td>MEN</td>\n",
       "      <td>100% Cotton</td>\n",
       "      <td>29.9</td>\n",
       "      <td>UNIQLO</td>\n",
       "      <td>Color: COL09 BLACK</td>\n",
       "    </tr>\n",
       "    <tr>\n",
       "      <th>3</th>\n",
       "      <td>MEN Uniqlo U Wide Fit Easy Shorts</td>\n",
       "      <td>https://d15udtvdbbfasl.cloudfront.net/catalog/...</td>\n",
       "      <td>Shorts inspired by military pants. Trendy loos...</td>\n",
       "      <td>MEN</td>\n",
       "      <td>100% Cotton</td>\n",
       "      <td>49.9</td>\n",
       "      <td>UNIQLO</td>\n",
       "      <td>Color: COL09 BLACK</td>\n",
       "    </tr>\n",
       "    <tr>\n",
       "      <th>4</th>\n",
       "      <td>MEN Chino Shorts</td>\n",
       "      <td>https://d15udtvdbbfasl.cloudfront.net/catalog/...</td>\n",
       "      <td>Updated to have a relaxed silhouette. Has a mo...</td>\n",
       "      <td>MEN</td>\n",
       "      <td>100% Cotton</td>\n",
       "      <td>19.9</td>\n",
       "      <td>UNIQLO</td>\n",
       "      <td>Color: COL08 DARK GRAY</td>\n",
       "    </tr>\n",
       "    <tr>\n",
       "      <th>...</th>\n",
       "      <td>...</td>\n",
       "      <td>...</td>\n",
       "      <td>...</td>\n",
       "      <td>...</td>\n",
       "      <td>...</td>\n",
       "      <td>...</td>\n",
       "      <td>...</td>\n",
       "      <td>...</td>\n",
       "    </tr>\n",
       "    <tr>\n",
       "      <th>51330</th>\n",
       "      <td>Esmee Exclusive relaxed beach jumpsuit in white</td>\n",
       "      <td>https://images.asos-media.com/products/esmee-e...</td>\n",
       "      <td>After some new beachwear for your next trip? E...</td>\n",
       "      <td>WOMEN</td>\n",
       "      <td>NaN</td>\n",
       "      <td>28.0</td>\n",
       "      <td>ASOS</td>\n",
       "      <td>White</td>\n",
       "    </tr>\n",
       "    <tr>\n",
       "      <th>51331</th>\n",
       "      <td>Selected Femme culotte jumpsuit in black</td>\n",
       "      <td>https://images.asos-media.com/products/selecte...</td>\n",
       "      <td>Embracing freedom, identity and style, Selecte...</td>\n",
       "      <td>WOMEN</td>\n",
       "      <td>NaN</td>\n",
       "      <td>45.9</td>\n",
       "      <td>ASOS</td>\n",
       "      <td>Black</td>\n",
       "    </tr>\n",
       "    <tr>\n",
       "      <th>51332</th>\n",
       "      <td>Selected Femme printed playsuit</td>\n",
       "      <td>https://images.asos-media.com/products/selecte...</td>\n",
       "      <td>Embracing freedom, identity and style, Selecte...</td>\n",
       "      <td>WOMEN</td>\n",
       "      <td>NaN</td>\n",
       "      <td>22.5</td>\n",
       "      <td>ASOS</td>\n",
       "      <td>Multi</td>\n",
       "    </tr>\n",
       "    <tr>\n",
       "      <th>51333</th>\n",
       "      <td>Selected Femme utility playsuit with tie waist...</td>\n",
       "      <td>https://images.asos-media.com/products/selecte...</td>\n",
       "      <td>Embracing freedom, identity and style, Selecte...</td>\n",
       "      <td>WOMEN</td>\n",
       "      <td>NaN</td>\n",
       "      <td>28.5</td>\n",
       "      <td>ASOS</td>\n",
       "      <td>Sand</td>\n",
       "    </tr>\n",
       "    <tr>\n",
       "      <th>51334</th>\n",
       "      <td>Selected Femme wrap wide leg jumpsuit in black</td>\n",
       "      <td>https://images.asos-media.com/products/selecte...</td>\n",
       "      <td>Embracing freedom, identity and style, Selecte...</td>\n",
       "      <td>WOMEN</td>\n",
       "      <td>NaN</td>\n",
       "      <td>68.0</td>\n",
       "      <td>ASOS</td>\n",
       "      <td>Black</td>\n",
       "    </tr>\n",
       "  </tbody>\n",
       "</table>\n",
       "<p>51109 rows × 8 columns</p>\n",
       "</div>"
      ],
      "text/plain": [
       "                                                   title  \\\n",
       "0                               MEN Linen Blended Shorts   \n",
       "1                              MEN Easy Shorts (Printed)   \n",
       "2                                       MEN Chino Shorts   \n",
       "3                      MEN Uniqlo U Wide Fit Easy Shorts   \n",
       "4                                       MEN Chino Shorts   \n",
       "...                                                  ...   \n",
       "51330    Esmee Exclusive relaxed beach jumpsuit in white   \n",
       "51331           Selected Femme culotte jumpsuit in black   \n",
       "51332                    Selected Femme printed playsuit   \n",
       "51333  Selected Femme utility playsuit with tie waist...   \n",
       "51334     Selected Femme wrap wide leg jumpsuit in black   \n",
       "\n",
       "                                                 img_url  \\\n",
       "0      https://d15udtvdbbfasl.cloudfront.net/catalog/...   \n",
       "1      https://d15udtvdbbfasl.cloudfront.net/catalog/...   \n",
       "2      https://d15udtvdbbfasl.cloudfront.net/catalog/...   \n",
       "3      https://d15udtvdbbfasl.cloudfront.net/catalog/...   \n",
       "4      https://d15udtvdbbfasl.cloudfront.net/catalog/...   \n",
       "...                                                  ...   \n",
       "51330  https://images.asos-media.com/products/esmee-e...   \n",
       "51331  https://images.asos-media.com/products/selecte...   \n",
       "51332  https://images.asos-media.com/products/selecte...   \n",
       "51333  https://images.asos-media.com/products/selecte...   \n",
       "51334  https://images.asos-media.com/products/selecte...   \n",
       "\n",
       "                                             description    sex  \\\n",
       "0      A single layer with a natural feel of natural ...    MEN   \n",
       "1      Light and cool shorts are perfect for relaxing...    MEN   \n",
       "2      Updated to have a relaxed silhouette. Has a mo...    MEN   \n",
       "3      Shorts inspired by military pants. Trendy loos...    MEN   \n",
       "4      Updated to have a relaxed silhouette. Has a mo...    MEN   \n",
       "...                                                  ...    ...   \n",
       "51330  After some new beachwear for your next trip? E...  WOMEN   \n",
       "51331  Embracing freedom, identity and style, Selecte...  WOMEN   \n",
       "51332  Embracing freedom, identity and style, Selecte...  WOMEN   \n",
       "51333  Embracing freedom, identity and style, Selecte...  WOMEN   \n",
       "51334  Embracing freedom, identity and style, Selecte...  WOMEN   \n",
       "\n",
       "                    material  price   brand                  colour  \n",
       "0      68% Cotton, 32% Linen   29.9  UNIQLO       Color: COL69 NAVY  \n",
       "1                100% Cotton   19.9  UNIQLO      Color: COL37 BROWN  \n",
       "2                100% Cotton   29.9  UNIQLO      Color: COL09 BLACK  \n",
       "3                100% Cotton   49.9  UNIQLO      Color: COL09 BLACK  \n",
       "4                100% Cotton   19.9  UNIQLO  Color: COL08 DARK GRAY  \n",
       "...                      ...    ...     ...                     ...  \n",
       "51330                    NaN   28.0    ASOS                   White  \n",
       "51331                    NaN   45.9    ASOS                   Black  \n",
       "51332                    NaN   22.5    ASOS                   Multi  \n",
       "51333                    NaN   28.5    ASOS                    Sand  \n",
       "51334                    NaN   68.0    ASOS                   Black  \n",
       "\n",
       "[51109 rows x 8 columns]"
      ]
     },
     "execution_count": 3,
     "metadata": {},
     "output_type": "execute_result"
    }
   ],
   "source": [
    "# confirm the data frame\n",
    "df"
   ]
  },
  {
   "cell_type": "markdown",
   "metadata": {},
   "source": [
    "## 1.Process Chinese Characrters"
   ]
  },
  {
   "cell_type": "code",
   "execution_count": 4,
   "metadata": {},
   "outputs": [],
   "source": [
    "# Replace Brandname\n",
    "brand_name = list(set(df[\"brand\"].values))\n",
    "for i in range(len(brand_name)):\n",
    "    df['description'] = df['description'].str.replace(brand_name[i],\"brand\")"
   ]
  },
  {
   "cell_type": "code",
   "execution_count": 5,
   "metadata": {},
   "outputs": [],
   "source": [
    "rep_dict = {}\n",
    "rep_dict[\"They窶决e\"] = \"They're\"\n",
    "rep_dict[\"they窶决e\"] = \"they're\"\n",
    "rep_dict[\"won窶冲\"] = \"won't\"\n",
    "rep_dict[\"Won窶冲\"] = \"Won't\"\n",
    "rep_dict[\"We窶况e\"] = \"We're\"\n",
    "rep_dict[\"we窶况e\"] = \"we're\"\n",
    "rep_dict[\"You窶决e\"] = \"You're\"\n",
    "rep_dict[\"you窶决e\"] = \"you're\"\n",
    "rep_dict[\"It窶冱\"] = \"It's\"\n",
    "rep_dict[\"it窶冱\"] = \"it's\"\n",
    "rep_dict[\"That窶冱\"] = \"That's\"\n",
    "rep_dict[\"that窶冱\"] = \"that's\"\n",
    "\n",
    "rep_dict[\"you窶冤l\"] = \"you'll\"\n",
    "rep_dict[\"You窶冤l\"] = \"You'll\"\n",
    "rep_dict[\"you窶况e\"] = \"you've\"\n",
    "rep_dict[\"You窶况e\"] = \"You've\"\n",
    "\n",
    "rep_dict[\"窶冱\"] = \"'s\"\n",
    "rep_dict[\"窶冲\"] = \"'t\"\n",
    "rep_dict[\"窶冤\"] = \"'l\"\n",
    "rep_dict[\"窶况\"] = \"'v\""
   ]
  },
  {
   "cell_type": "code",
   "execution_count": 6,
   "metadata": {},
   "outputs": [],
   "source": [
    "garbs = ['窶', '邃', '决', 'ﾃ', '亘', 'ｩ', '#', 'ﾂ', '惑', '\\uf8f0', '和', 'ｸ', 'ｮ', '蕨', 'ｦ', '+', '×', '竅', '<', '况', '_',\\\n",
    "        '囘', '>', '杯', '冢', '$', '僖', '楼', '杷', '蚤', '冖', 'ｼ', 'ｿ', '歪', '`', '|', 'ｨ', '琶', '話',\\\n",
    "         '炉', '*', '儺', '儡', '冉', '\\x80', '馬', '@', '俳', '廳', 'ⅱ', '＆', '背', '銀', '巴', 'ｴ', '婆',\\\n",
    "         '詫', 'ｶ', 'ｃ', '°', '廃', '｡', '亀', '妓', '､', '僊', '廬', '賄', 'δ', '覇', '敗', '②', '派', '彡', '鍍','ⅱ','・']"
   ]
  },
  {
   "cell_type": "code",
   "execution_count": 7,
   "metadata": {},
   "outputs": [],
   "source": [
    "processed = []\n",
    "\n",
    "for val in df['description']: \n",
    "      \n",
    "    # typecaste each val to string \n",
    "    val = str(val) \n",
    "    # split the value \n",
    "    tokens = val.split()     \n",
    "    \n",
    "    comment_words =\"\"\n",
    "    \n",
    "    for i in range(len(tokens)): \n",
    "        for j in range(len(garbs)):\n",
    "            tokens = [i for i in tokens if garbs[j] not in i]\n",
    "      \n",
    "    comment_words += \" \".join(tokens)+\" \"\n",
    "    processed.append(comment_words)    "
   ]
  },
  {
   "cell_type": "code",
   "execution_count": 8,
   "metadata": {},
   "outputs": [],
   "source": [
    "df['description'] = processed"
   ]
  },
  {
   "cell_type": "code",
   "execution_count": 9,
   "metadata": {},
   "outputs": [],
   "source": [
    "df = df.reset_index()"
   ]
  },
  {
   "cell_type": "code",
   "execution_count": 10,
   "metadata": {},
   "outputs": [],
   "source": [
    "df = df.drop([\"index\"],axis=1)"
   ]
  },
  {
   "cell_type": "markdown",
   "metadata": {},
   "source": [
    "## 1.1Confirm characters "
   ]
  },
  {
   "cell_type": "code",
   "execution_count": 11,
   "metadata": {},
   "outputs": [],
   "source": [
    "comment_words = '' \n",
    "#stopwords = set(STOPWORDS) \n",
    "\n",
    "# iterate through the csv file \n",
    "for val in df['description']: \n",
    "      \n",
    "    # typecaste each val to string \n",
    "    val = str(val) \n",
    "  \n",
    "    # split the value \n",
    "    tokens = val.split() \n",
    "      \n",
    "    # Converts each token into lowercase \n",
    "    for i in range(len(tokens)): \n",
    "        tokens[i] = tokens[i].lower() \n",
    "      \n",
    "    comment_words += \" \".join(tokens)+\" \""
   ]
  },
  {
   "cell_type": "code",
   "execution_count": 12,
   "metadata": {
    "scrolled": false
   },
   "outputs": [
    {
     "name": "stdout",
     "output_type": "stream",
     "text": [
      "Counter({' ': 1984245, 'e': 1041404, 't': 841565, 'a': 753221, 's': 705950, 'i': 656707, 'o': 642617, 'n': 630992, 'r': 614442, 'l': 437360, 'd': 405248, 'h': 350985, 'c': 321462, 'u': 258341, 'f': 215484, 'g': 194848, 'm': 185141, 'p': 182316, 'w': 169945, 'b': 159616, 'y': 151746, ',': 135027, '.': 128827, 'k': 115007, '-': 114385, 'v': 91594, 'j': 31590, 'z': 25920, 'x': 21408, ':': 12232, '1': 9295, '7': 8793, '0': 7511, \"'\": 6847, 'q': 5809, '5': 5778, '6': 5652, '3': 5500, '9': 4617, '4': 4492, '8': 4419, '2': 4263, '?': 3530, '/': 2300, '\"': 2061, '&': 1168, ')': 794, '(': 782, '%': 659, '’': 480, ';': 209, '“': 125, '”': 125, '!': 114, '[': 32, ']': 26, '‘': 9, 'ⅱ': 2})\n"
     ]
    }
   ],
   "source": [
    "from collections import Counter\n",
    "counter = Counter(comment_words)\n",
    "print(counter)"
   ]
  },
  {
   "cell_type": "code",
   "execution_count": 13,
   "metadata": {},
   "outputs": [],
   "source": [
    "#Output - Stage1\n",
    "df.to_csv(\"processed.csv\")"
   ]
  },
  {
   "cell_type": "code",
   "execution_count": 16,
   "metadata": {},
   "outputs": [],
   "source": [
    "df = pd.read_csv(\"processed.csv\", encoding=\"utf-8-sig\")\n",
    "df.columns = ['img_id', 'title', 'img_url', 'description', 'sex', 'material', 'price', 'brand', 'colour']\n",
    "img_files = os.listdir('C:\\\\Users\\\\gamis\\\\Documents\\\\NUS_Lecture\\\\BT5153-Applied Machine Learning\\\\Group work\\\\DataProcessing\\\\Pict')\n",
    "img_ids = [id.split('.')[0] for id in img_files]\n",
    "\n",
    "df = df[df.img_id.isin(img_ids)]"
   ]
  },
  {
   "cell_type": "markdown",
   "metadata": {},
   "source": [
    "## 2.drop too short explanation"
   ]
  },
  {
   "cell_type": "code",
   "execution_count": 17,
   "metadata": {},
   "outputs": [],
   "source": [
    "short_exp=[i for i in range(len(df)) if len(df.iloc[i,3].split())<10]\n",
    "df = df.drop(df.index[short_exp])"
   ]
  },
  {
   "cell_type": "markdown",
   "metadata": {},
   "source": [
    "## 3.Drop Brands with unusual discriptions"
   ]
  },
  {
   "cell_type": "code",
   "execution_count": 18,
   "metadata": {},
   "outputs": [],
   "source": [
    "## drop ASOS wrong explanation\n",
    "df_ASOS = df[df[\"brand\"]==\"ASOS\"].copy()\n",
    "df_ASOS_index = df_ASOS.index\n",
    "ASOS_wrong_exp = [df_ASOS_index[i] for i in range(len(df_ASOS)) if not \"ASOS\" in df_ASOS.iloc[i,1]]\n",
    "#df_ASOS_index\n",
    "df = df.drop(ASOS_wrong_exp)"
   ]
  },
  {
   "cell_type": "code",
   "execution_count": 19,
   "metadata": {},
   "outputs": [],
   "source": [
    "## Drop Only\n",
    "df = df[df[\"brand\"] != \"Only\"]\n",
    "df = df[df[\"brand\"] != \"ASOS\"]"
   ]
  },
  {
   "cell_type": "markdown",
   "metadata": {},
   "source": [
    "## 4.Pick up Unique"
   ]
  },
  {
   "cell_type": "code",
   "execution_count": 20,
   "metadata": {},
   "outputs": [
    {
     "data": {
      "text/html": [
       "<div>\n",
       "<style scoped>\n",
       "    .dataframe tbody tr th:only-of-type {\n",
       "        vertical-align: middle;\n",
       "    }\n",
       "\n",
       "    .dataframe tbody tr th {\n",
       "        vertical-align: top;\n",
       "    }\n",
       "\n",
       "    .dataframe thead th {\n",
       "        text-align: right;\n",
       "    }\n",
       "</style>\n",
       "<table border=\"1\" class=\"dataframe\">\n",
       "  <thead>\n",
       "    <tr style=\"text-align: right;\">\n",
       "      <th></th>\n",
       "      <th>img_id</th>\n",
       "      <th>title</th>\n",
       "      <th>img_url</th>\n",
       "      <th>description</th>\n",
       "      <th>sex</th>\n",
       "      <th>material</th>\n",
       "      <th>price</th>\n",
       "      <th>brand</th>\n",
       "      <th>colour</th>\n",
       "    </tr>\n",
       "  </thead>\n",
       "  <tbody>\n",
       "    <tr>\n",
       "      <th>0</th>\n",
       "      <td>0</td>\n",
       "      <td>MEN Linen Blended Shorts</td>\n",
       "      <td>https://d15udtvdbbfasl.cloudfront.net/catalog/...</td>\n",
       "      <td>A single layer with a natural feel of natural ...</td>\n",
       "      <td>MEN</td>\n",
       "      <td>68% Cotton, 32% Linen</td>\n",
       "      <td>29.9</td>\n",
       "      <td>UNIQLO</td>\n",
       "      <td>Color: COL69 NAVY</td>\n",
       "    </tr>\n",
       "    <tr>\n",
       "      <th>1</th>\n",
       "      <td>1</td>\n",
       "      <td>MEN Easy Shorts (Printed)</td>\n",
       "      <td>https://d15udtvdbbfasl.cloudfront.net/catalog/...</td>\n",
       "      <td>Light and cool shorts are perfect for relaxing...</td>\n",
       "      <td>MEN</td>\n",
       "      <td>100% Cotton</td>\n",
       "      <td>19.9</td>\n",
       "      <td>UNIQLO</td>\n",
       "      <td>Color: COL37 BROWN</td>\n",
       "    </tr>\n",
       "    <tr>\n",
       "      <th>2</th>\n",
       "      <td>2</td>\n",
       "      <td>MEN Chino Shorts</td>\n",
       "      <td>https://d15udtvdbbfasl.cloudfront.net/catalog/...</td>\n",
       "      <td>Updated to have a relaxed silhouette. Has a mo...</td>\n",
       "      <td>MEN</td>\n",
       "      <td>100% Cotton</td>\n",
       "      <td>29.9</td>\n",
       "      <td>UNIQLO</td>\n",
       "      <td>Color: COL09 BLACK</td>\n",
       "    </tr>\n",
       "    <tr>\n",
       "      <th>3</th>\n",
       "      <td>3</td>\n",
       "      <td>MEN Uniqlo U Wide Fit Easy Shorts</td>\n",
       "      <td>https://d15udtvdbbfasl.cloudfront.net/catalog/...</td>\n",
       "      <td>Shorts inspired by military pants. Trendy loos...</td>\n",
       "      <td>MEN</td>\n",
       "      <td>100% Cotton</td>\n",
       "      <td>49.9</td>\n",
       "      <td>UNIQLO</td>\n",
       "      <td>Color: COL09 BLACK</td>\n",
       "    </tr>\n",
       "    <tr>\n",
       "      <th>5</th>\n",
       "      <td>5</td>\n",
       "      <td>MEN Ultra Light Shorts</td>\n",
       "      <td>https://d15udtvdbbfasl.cloudfront.net/catalog/...</td>\n",
       "      <td>KANDO Shorts has been renamed to Ultra Light S...</td>\n",
       "      <td>MEN</td>\n",
       "      <td>100% Polyester</td>\n",
       "      <td>39.9</td>\n",
       "      <td>UNIQLO</td>\n",
       "      <td>Color: COL32 BEIGE</td>\n",
       "    </tr>\n",
       "    <tr>\n",
       "      <th>...</th>\n",
       "      <td>...</td>\n",
       "      <td>...</td>\n",
       "      <td>...</td>\n",
       "      <td>...</td>\n",
       "      <td>...</td>\n",
       "      <td>...</td>\n",
       "      <td>...</td>\n",
       "      <td>...</td>\n",
       "      <td>...</td>\n",
       "    </tr>\n",
       "    <tr>\n",
       "      <th>35143</th>\n",
       "      <td>35143</td>\n",
       "      <td>Levi's x Disney Mickey &amp; Friends Crewneck Swea...</td>\n",
       "      <td>https://storage.sg.content-cdn.io/cdn-cgi/imag...</td>\n",
       "      <td>Introducing a special collaboration featuring ...</td>\n",
       "      <td>WOMEN</td>\n",
       "      <td>NaN</td>\n",
       "      <td>119.9</td>\n",
       "      <td>Levi'S</td>\n",
       "      <td>NaN</td>\n",
       "    </tr>\n",
       "    <tr>\n",
       "      <th>35144</th>\n",
       "      <td>35144</td>\n",
       "      <td>Levi's Cinched Crewneck Sweatshirt</td>\n",
       "      <td>https://storage.sg.content-cdn.io/cdn-cgi/imag...</td>\n",
       "      <td>A cozy and casual pullover sweatshirt. Made es...</td>\n",
       "      <td>WOMEN</td>\n",
       "      <td>NaN</td>\n",
       "      <td>119.9</td>\n",
       "      <td>Levi'S</td>\n",
       "      <td>NaN</td>\n",
       "    </tr>\n",
       "    <tr>\n",
       "      <th>35145</th>\n",
       "      <td>35145</td>\n",
       "      <td>Levi's Diana Crewneck Sweatshirt</td>\n",
       "      <td>https://storage.sg.content-cdn.io/cdn-cgi/imag...</td>\n",
       "      <td>A crewneck sweater with a vintage fit. Dropped...</td>\n",
       "      <td>WOMEN</td>\n",
       "      <td>NaN</td>\n",
       "      <td>119.9</td>\n",
       "      <td>Levi'S</td>\n",
       "      <td>NaN</td>\n",
       "    </tr>\n",
       "    <tr>\n",
       "      <th>35148</th>\n",
       "      <td>35148</td>\n",
       "      <td>Levi's Graphic Sport Hoodie</td>\n",
       "      <td>https://storage.sg.content-cdn.io/cdn-cgi/imag...</td>\n",
       "      <td>Sportswear style and casual comfort, together ...</td>\n",
       "      <td>WOMEN</td>\n",
       "      <td>NaN</td>\n",
       "      <td>99.9</td>\n",
       "      <td>Levi'S</td>\n",
       "      <td>NaN</td>\n",
       "    </tr>\n",
       "    <tr>\n",
       "      <th>35149</th>\n",
       "      <td>35149</td>\n",
       "      <td>levi  women's graphic skate zip-up hoodie</td>\n",
       "      <td>https://storage.sg.content-cdn.io/cdn-cgi/imag...</td>\n",
       "      <td>A go-to hoodie with a casual style and relaxed...</td>\n",
       "      <td>WOMEN</td>\n",
       "      <td>NaN</td>\n",
       "      <td>69.9</td>\n",
       "      <td>Levi'S</td>\n",
       "      <td>NaN</td>\n",
       "    </tr>\n",
       "  </tbody>\n",
       "</table>\n",
       "<p>19100 rows × 9 columns</p>\n",
       "</div>"
      ],
      "text/plain": [
       "       img_id                                              title  \\\n",
       "0           0                           MEN Linen Blended Shorts   \n",
       "1           1                          MEN Easy Shorts (Printed)   \n",
       "2           2                                   MEN Chino Shorts   \n",
       "3           3                  MEN Uniqlo U Wide Fit Easy Shorts   \n",
       "5           5                             MEN Ultra Light Shorts   \n",
       "...       ...                                                ...   \n",
       "35143   35143  Levi's x Disney Mickey & Friends Crewneck Swea...   \n",
       "35144   35144                 Levi's Cinched Crewneck Sweatshirt   \n",
       "35145   35145                   Levi's Diana Crewneck Sweatshirt   \n",
       "35148   35148                        Levi's Graphic Sport Hoodie   \n",
       "35149   35149          levi  women's graphic skate zip-up hoodie   \n",
       "\n",
       "                                                 img_url  \\\n",
       "0      https://d15udtvdbbfasl.cloudfront.net/catalog/...   \n",
       "1      https://d15udtvdbbfasl.cloudfront.net/catalog/...   \n",
       "2      https://d15udtvdbbfasl.cloudfront.net/catalog/...   \n",
       "3      https://d15udtvdbbfasl.cloudfront.net/catalog/...   \n",
       "5      https://d15udtvdbbfasl.cloudfront.net/catalog/...   \n",
       "...                                                  ...   \n",
       "35143  https://storage.sg.content-cdn.io/cdn-cgi/imag...   \n",
       "35144  https://storage.sg.content-cdn.io/cdn-cgi/imag...   \n",
       "35145  https://storage.sg.content-cdn.io/cdn-cgi/imag...   \n",
       "35148  https://storage.sg.content-cdn.io/cdn-cgi/imag...   \n",
       "35149  https://storage.sg.content-cdn.io/cdn-cgi/imag...   \n",
       "\n",
       "                                             description    sex  \\\n",
       "0      A single layer with a natural feel of natural ...    MEN   \n",
       "1      Light and cool shorts are perfect for relaxing...    MEN   \n",
       "2      Updated to have a relaxed silhouette. Has a mo...    MEN   \n",
       "3      Shorts inspired by military pants. Trendy loos...    MEN   \n",
       "5      KANDO Shorts has been renamed to Ultra Light S...    MEN   \n",
       "...                                                  ...    ...   \n",
       "35143  Introducing a special collaboration featuring ...  WOMEN   \n",
       "35144  A cozy and casual pullover sweatshirt. Made es...  WOMEN   \n",
       "35145  A crewneck sweater with a vintage fit. Dropped...  WOMEN   \n",
       "35148  Sportswear style and casual comfort, together ...  WOMEN   \n",
       "35149  A go-to hoodie with a casual style and relaxed...  WOMEN   \n",
       "\n",
       "                    material  price   brand              colour  \n",
       "0      68% Cotton, 32% Linen   29.9  UNIQLO   Color: COL69 NAVY  \n",
       "1                100% Cotton   19.9  UNIQLO  Color: COL37 BROWN  \n",
       "2                100% Cotton   29.9  UNIQLO  Color: COL09 BLACK  \n",
       "3                100% Cotton   49.9  UNIQLO  Color: COL09 BLACK  \n",
       "5             100% Polyester   39.9  UNIQLO  Color: COL32 BEIGE  \n",
       "...                      ...    ...     ...                 ...  \n",
       "35143                    NaN  119.9  Levi'S                 NaN  \n",
       "35144                    NaN  119.9  Levi'S                 NaN  \n",
       "35145                    NaN  119.9  Levi'S                 NaN  \n",
       "35148                    NaN   99.9  Levi'S                 NaN  \n",
       "35149                    NaN   69.9  Levi'S                 NaN  \n",
       "\n",
       "[19100 rows x 9 columns]"
      ]
     },
     "execution_count": 20,
     "metadata": {},
     "output_type": "execute_result"
    }
   ],
   "source": [
    "## Pick up unique data\n",
    "df_find_unq = df.copy()\n",
    "df_find_unq = df_find_unq[[\"description\"]]\n",
    "df_find_unq = df_find_unq.drop_duplicates()\n",
    "df_find_unq_index = df_find_unq.index\n",
    "df = df.loc[df_find_unq_index]\n",
    "df"
   ]
  },
  {
   "cell_type": "markdown",
   "metadata": {},
   "source": [
    "## 5.Brand name Processing"
   ]
  },
  {
   "cell_type": "code",
   "execution_count": 21,
   "metadata": {},
   "outputs": [],
   "source": [
    "dict_brand = [\"uniqlo\",\"Uniqlo\",\"UNIQLO\",\"Adidas\",\"adidas\",\"c&a\",\"C&A\",\"fila\",\"Fila\",\"forever21\",\"Forever21\",\"FOREVER21\",\"gymshark\",\"Gymshark\",\"h&m\",\"H&M\",\"Nike\",\"nike\",\"Levi's\",\"Levi\",\"reformation\",\"Reformation\",\"rouje\",\"Rouje\",\"velomoda\",\"Velomoda\"]\n",
    "for i in range (len(dict_brand)):\n",
    "    df['Description'] = df['description'].str.replace(dict_brand[i],\"brand\")\n",
    "    df['description'] = df['description'].str.replace(dict_brand[i],\"brand\")"
   ]
  },
  {
   "cell_type": "markdown",
   "metadata": {},
   "source": [
    "## 6.Remove Punctuations"
   ]
  },
  {
   "cell_type": "code",
   "execution_count": 22,
   "metadata": {},
   "outputs": [],
   "source": [
    "import string\n",
    "punct =[]\n",
    "punct += list(string.punctuation)\n",
    "punct += '’'\n",
    "punct += ','\n",
    "punct += '“'\n",
    "punct += '”'\n",
    "\n",
    "punct.remove(\"'\")\n",
    "def remove_punctuations(text):\n",
    "    for punctuation in punct:\n",
    "        text = text.replace(punctuation, ' ')\n",
    "    return text"
   ]
  },
  {
   "cell_type": "code",
   "execution_count": 23,
   "metadata": {},
   "outputs": [],
   "source": [
    "df[\"Description\"]=df[\"Description\"].apply(remove_punctuations)\n",
    "df[\"description\"]=df[\"description\"].apply(remove_punctuations)"
   ]
  },
  {
   "cell_type": "markdown",
   "metadata": {},
   "source": [
    "## 7.convert lower "
   ]
  },
  {
   "cell_type": "code",
   "execution_count": 26,
   "metadata": {},
   "outputs": [],
   "source": [
    "df[\"description\"]=df[\"description\"].str.lower()\n",
    "df[\"Description\"]=df[\"Description\"].str.lower()"
   ]
  },
  {
   "cell_type": "markdown",
   "metadata": {},
   "source": [
    "## 8.replace contractions"
   ]
  },
  {
   "cell_type": "code",
   "execution_count": 27,
   "metadata": {},
   "outputs": [],
   "source": [
    "import re\n",
    "\n",
    "contraction_dict = {\"ain't\": \"is not\", \"aren't\": \"are not\",\"can't\": \"cannot\", \"'cause\": \"because\", \"could've\": \"could have\", \"couldn't\": \"could not\", \"didn't\": \"did not\",  \"doesn't\": \"does not\", \"don't\": \"do not\", \"hadn't\": \"had not\", \"hasn't\": \"has not\", \"haven't\": \"have not\", \"he'd\": \"he would\",\"he'll\": \"he will\", \"he's\": \"he is\", \"how'd\": \"how did\", \"how'd'y\": \"how do you\", \"how'll\": \"how will\", \"how's\": \"how is\",  \"I'd\": \"I would\", \"I'd've\": \"I would have\", \"I'll\": \"I will\", \"I'll've\": \"I will have\",\"I'm\": \"I am\", \"I've\": \"I have\", \"i'd\": \"i would\", \"i'd've\": \"i would have\", \"i'll\": \"i will\",  \"i'll've\": \"i will have\",\"i'm\": \"i am\", \"i've\": \"i have\", \"isn't\": \"is not\", \"it'd\": \"it would\", \"it'd've\": \"it would have\", \"it'll\": \"it will\", \"it'll've\": \"it will have\",\"it's\": \"it is\", \"let's\": \"let us\", \"ma'am\": \"madam\", \"mayn't\": \"may not\", \"might've\": \"might have\",\"mightn't\": \"might not\",\"mightn't've\": \"might not have\", \"must've\": \"must have\", \"mustn't\": \"must not\", \"mustn't've\": \"must not have\", \"needn't\": \"need not\", \"needn't've\": \"need not have\",\"o'clock\": \"of the clock\", \"oughtn't\": \"ought not\", \"oughtn't've\": \"ought not have\", \"shan't\": \"shall not\", \"sha'n't\": \"shall not\", \"shan't've\": \"shall not have\", \"she'd\": \"she would\", \"she'd've\": \"she would have\", \"she'll\": \"she will\", \"she'll've\": \"she will have\", \"she's\": \"she is\", \"should've\": \"should have\", \"shouldn't\": \"should not\", \"shouldn't've\": \"should not have\", \"so've\": \"so have\",\"so's\": \"so as\", \"this's\": \"this is\",\"that'd\": \"that would\", \"that'd've\": \"that would have\", \"that's\": \"that is\", \"there'd\": \"there would\", \"there'd've\": \"there would have\", \"there's\": \"there is\", \"here's\": \"here is\",\"they'd\": \"they would\", \"they'd've\": \"they would have\", \"they'll\": \"they will\", \"they'll've\": \"they will have\", \"they're\": \"they are\", \"they've\": \"they have\", \"to've\": \"to have\", \"wasn't\": \"was not\", \"we'd\": \"we would\", \"we'd've\": \"we would have\", \"we'll\": \"we will\", \"we'll've\": \"we will have\", \"we're\": \"we are\", \"we've\": \"we have\", \"weren't\": \"were not\", \"what'll\": \"what will\", \"what'll've\": \"what will have\", \"what're\": \"what are\",  \"what's\": \"what is\", \"what've\": \"what have\", \"when's\": \"when is\", \"when've\": \"when have\", \"where'd\": \"where did\", \"where's\": \"where is\", \"where've\": \"where have\", \"who'll\": \"who will\", \"who'll've\": \"who will have\", \"who's\": \"who is\", \"who've\": \"who have\", \"why's\": \"why is\", \"why've\": \"why have\", \"will've\": \"will have\", \"won't\": \"will not\", \"won't've\": \"will not have\", \"would've\": \"would have\", \"wouldn't\": \"would not\", \"wouldn't've\": \"would not have\", \"y'all\": \"you all\", \"y'all'd\": \"you all would\",\"y'all'd've\": \"you all would have\",\"y'all're\": \"you all are\",\"y'all've\": \"you all have\",\"you'd\": \"you would\", \"you'd've\": \"you would have\", \"you'll\": \"you will\", \"you'll've\": \"you will have\", \"you're\": \"you are\", \"you've\": \"you have\"}\n",
    "def _get_contractions(contraction_dict):\n",
    "    contraction_re = re.compile('(%s)' % '|'.join(contraction_dict.keys()))\n",
    "    return contraction_dict, contraction_re\n",
    "contractions, contractions_re = _get_contractions(contraction_dict)\n",
    "\n",
    "def replace_contractions(text):\n",
    "    def replace(match):\n",
    "        return contractions[match.group(0)]\n",
    "    return contractions_re.sub(replace, text)\n",
    "\n",
    "df[\"description\"]=df[\"description\"].apply(replace_contractions)\n",
    "df[\"Description\"]=df[\"Description\"].apply(replace_contractions)"
   ]
  },
  {
   "cell_type": "markdown",
   "metadata": {},
   "source": [
    "## 9.remove remaining punctuation"
   ]
  },
  {
   "cell_type": "code",
   "execution_count": 28,
   "metadata": {},
   "outputs": [],
   "source": [
    "apos_list = []\n",
    "for i in range(len(df)):\n",
    "    for t in df.iloc[i,3].split():\n",
    "        if \"'\" in t:\n",
    "            apos_list.append(t)"
   ]
  },
  {
   "cell_type": "code",
   "execution_count": 29,
   "metadata": {},
   "outputs": [],
   "source": [
    "import string\n",
    "punct2 =[]\n",
    "punct2 += list(string.punctuation)\n",
    "punct2 += '’'\n",
    "punct2 += ','\n",
    "punct2 += '“'\n",
    "punct2 += '”'\n",
    "punct2 += \"'\"\n",
    "\n",
    "# if we want to keep men's\n",
    "#apos_list = [t for t in apos_list if t is not \"men's\" or \"women's\"]\n",
    "for punctuation in punct2:\n",
    "    apos_list_dropped = [t.replace(punctuation, '') for t in apos_list]"
   ]
  },
  {
   "cell_type": "code",
   "execution_count": 30,
   "metadata": {},
   "outputs": [],
   "source": [
    "import re\n",
    "\n",
    "contraction_dict = dict(zip(apos_list, apos_list_dropped))\n",
    "def _get_contractions(contraction_dict):\n",
    "    contraction_re = re.compile('(%s)' % '|'.join(contraction_dict.keys()))\n",
    "    return contraction_dict, contraction_re\n",
    "contractions, contractions_re = _get_contractions(contraction_dict)\n",
    "\n",
    "def replace_contractions(text):\n",
    "    def replace(match):\n",
    "        return contractions[match.group(0)]\n",
    "    return contractions_re.sub(replace, text)"
   ]
  },
  {
   "cell_type": "code",
   "execution_count": 31,
   "metadata": {},
   "outputs": [],
   "source": [
    "df[\"description\"]=df[\"description\"].apply(replace_contractions)\n",
    "df[\"Description\"]=df[\"Description\"].apply(replace_contractions)"
   ]
  },
  {
   "cell_type": "markdown",
   "metadata": {},
   "source": [
    "## 10.remove all standalone numbers"
   ]
  },
  {
   "cell_type": "code",
   "execution_count": 32,
   "metadata": {},
   "outputs": [],
   "source": [
    "def is_not_float(string):\n",
    "    try:\n",
    "        float(string)\n",
    "        return False\n",
    "    except ValueError:  # String is not a number\n",
    "        return True\n",
    "\n",
    "df[\"description\"] = df[\"description\"].apply(lambda x: [i for i in x.split(\" \") if is_not_float(i)])\n",
    "df[\"Description\"] = df[\"Description\"].apply(lambda x: [i for i in x.split(\" \") if is_not_float(i)])"
   ]
  },
  {
   "cell_type": "code",
   "execution_count": 33,
   "metadata": {},
   "outputs": [],
   "source": [
    "df.iloc[0,3]\n",
    "tex = [t for t in df.iloc[0,3] if t is not '']"
   ]
  },
  {
   "cell_type": "code",
   "execution_count": 34,
   "metadata": {},
   "outputs": [],
   "source": [
    "def join(text):\n",
    "    t = [t for t in text if t is not '']\n",
    "    text = ' '.join(t)\n",
    "    return text\n",
    "\n",
    "df[\"description\"] = df[\"description\"].apply(join)\n",
    "df[\"Description\"] = df[\"Description\"].apply(join)"
   ]
  },
  {
   "cell_type": "markdown",
   "metadata": {},
   "source": [
    "## 11.delete duplicated data - after cleaning"
   ]
  },
  {
   "cell_type": "code",
   "execution_count": 35,
   "metadata": {},
   "outputs": [],
   "source": [
    "df_find_unq = df.copy()\n",
    "df_find_unq = df_find_unq[[\"description\"]]\n",
    "df_find_unq = df_find_unq.drop_duplicates()\n",
    "df_find_unq_index = df_find_unq.index\n",
    "df = df.loc[df_find_unq_index]"
   ]
  },
  {
   "cell_type": "code",
   "execution_count": 36,
   "metadata": {},
   "outputs": [],
   "source": [
    "df.to_csv(\"Data_processed_reduced_v4.csv\")"
   ]
  },
  {
   "cell_type": "code",
   "execution_count": null,
   "metadata": {},
   "outputs": [],
   "source": []
  }
 ],
 "metadata": {
  "kernelspec": {
   "display_name": "Python 3",
   "language": "python",
   "name": "python3"
  },
  "language_info": {
   "codemirror_mode": {
    "name": "ipython",
    "version": 3
   },
   "file_extension": ".py",
   "mimetype": "text/x-python",
   "name": "python",
   "nbconvert_exporter": "python",
   "pygments_lexer": "ipython3",
   "version": "3.7.9"
  }
 },
 "nbformat": 4,
 "nbformat_minor": 4
}
