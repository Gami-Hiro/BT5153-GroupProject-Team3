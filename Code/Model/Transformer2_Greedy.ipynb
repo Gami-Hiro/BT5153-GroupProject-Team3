{
  "nbformat": 4,
  "nbformat_minor": 0,
  "metadata": {
    "colab": {
      "name": "image_captioning_transformer_JH.ipynb",
      "provenance": [],
      "collapsed_sections": []
    },
    "kernelspec": {
      "name": "python3",
      "display_name": "Python 3"
    }
  },
  "cells": [
    {
      "cell_type": "code",
      "metadata": {
        "id": "nQesR9xvk2WK",
        "colab": {
          "base_uri": "https://localhost:8080/"
        },
        "outputId": "5bb0170e-fbac-4499-8429-b6d412227a5a"
      },
      "source": [
        "from google.colab import drive\n",
        "drive.mount('/content/drive', force_remount=True)"
      ],
      "execution_count": 1,
      "outputs": [
        {
          "output_type": "stream",
          "text": [
            "Mounted at /content/drive\n"
          ],
          "name": "stdout"
        }
      ]
    },
    {
      "cell_type": "code",
      "metadata": {
        "id": "f9-3p18-qZ7K",
        "colab": {
          "base_uri": "https://localhost:8080/"
        },
        "outputId": "b2888982-ac6e-4d30-9f02-6df4e9fb2b33"
      },
      "source": [
        "import pandas as pd\n",
        "import matplotlib.pyplot as plt \n",
        "import requests\n",
        "import tensorflow as tf\n",
        "import string\n",
        "from tensorflow.keras.models import Sequential\n",
        "from tensorflow.keras.layers import (LSTM, Embedding, Bidirectional,\n",
        "    TimeDistributed, Dense, RepeatVector, \n",
        "    Activation, Flatten, Reshape, concatenate,  \n",
        "    Dropout, BatchNormalization, GRU)\n",
        "\n",
        "\n",
        "from tensorflow.keras.optimizers import Adam, RMSprop\n",
        "from tensorflow.keras import Input, layers\n",
        "from tensorflow.keras import optimizers\n",
        "\n",
        "from tensorflow.keras.models import Model\n",
        "\n",
        "\n",
        "from tensorflow.keras.preprocessing.sequence import pad_sequences\n",
        "import numpy as np\n",
        "\n",
        "from tensorflow.keras.layers.experimental.preprocessing import TextVectorization\n",
        "from tensorflow.keras.layers import Embedding\n",
        "\n",
        "import pickle\n",
        "\n",
        "import os\n",
        "pandarallel.initialize()"
      ],
      "execution_count": 3,
      "outputs": [
        {
          "output_type": "stream",
          "text": [
            "INFO: Pandarallel will run on 2 workers.\n",
            "INFO: Pandarallel will use Memory file system to transfer data between the main process and workers.\n"
          ],
          "name": "stdout"
        }
      ]
    },
    {
      "cell_type": "code",
      "metadata": {
        "id": "TvoxCOAstIsc",
        "colab": {
          "base_uri": "https://localhost:8080/"
        },
        "outputId": "2b705102-74c8-4376-899e-fba717bfd81d"
      },
      "source": [
        "# read data_processed.csv\n",
        "data_path = '/content/drive/MyDrive/BT5153/Data/'\n",
        "df = pd.read_csv('/content/drive/MyDrive/BT5153/Data/Data_processed_reduced_v4.csv',encoding= 'unicode_escape')\n",
        "df.shape"
      ],
      "execution_count": 4,
      "outputs": [
        {
          "output_type": "execute_result",
          "data": {
            "text/plain": [
              "(18680, 11)"
            ]
          },
          "metadata": {
            "tags": []
          },
          "execution_count": 4
        }
      ]
    },
    {
      "cell_type": "code",
      "metadata": {
        "id": "TtUNHowfPOHz"
      },
      "source": [
        "# add img paths\n",
        "df['img_path'] = df.img_id.apply(lambda x: '/content/drive/MyDrive/BT5153/Data/Pict/' + str(x) + '.jpg')"
      ],
      "execution_count": 5,
      "outputs": []
    },
    {
      "cell_type": "code",
      "metadata": {
        "id": "6P9dl_3fPYtM"
      },
      "source": [
        "# padding 'ss' and 'ee' to the string to mark the begining and end\n",
        "df['Description'] = df['Description'].apply(lambda x: 'ss '+ x + ' ee' )\n",
        "df['Description'] = df['Description'].apply(lambda x: x.lower())"
      ],
      "execution_count": 6,
      "outputs": []
    },
    {
      "cell_type": "code",
      "metadata": {
        "colab": {
          "base_uri": "https://localhost:8080/"
        },
        "id": "NnyF6Rs8oGE2",
        "outputId": "dbdee900-a2ea-4085-f0f6-778557e15e27"
      },
      "source": [
        "df['text_length'] = df['Description'].apply(lambda x: len(x.split()))\n",
        "print(df['text_length'].mean())\n",
        "np.quantile(df['text_length'],0.9)"
      ],
      "execution_count": 6,
      "outputs": [
        {
          "output_type": "stream",
          "text": [
            "33.003693790149896\n"
          ],
          "name": "stdout"
        },
        {
          "output_type": "execute_result",
          "data": {
            "text/plain": [
              "62.0"
            ]
          },
          "metadata": {
            "tags": []
          },
          "execution_count": 6
        }
      ]
    },
    {
      "cell_type": "code",
      "metadata": {
        "colab": {
          "base_uri": "https://localhost:8080/"
        },
        "id": "7lSsq2jG1f6z",
        "outputId": "5c42ccba-da38-43ce-c18a-252526532d11"
      },
      "source": [
        "#  build vocabulary using glove and vectorize the text\n",
        "temp = []\n",
        "for des in df.Description.values:\n",
        "  temp.extend(des.split())\n",
        "temp.append('@')\n",
        "\n",
        "vocabulary = list(set(temp))\n",
        "max_tokens = len(vocabulary)\n",
        "\n",
        "print (\"max token length : {}\".format(max_tokens))\n",
        "output_sequence_length=62\n",
        "vectorizer = TextVectorization(max_tokens=max_tokens + 1, output_sequence_length=output_sequence_length, standardize=None)\n",
        "# text_ds = df.Description.values\n",
        "vectorizer.adapt(temp) \n",
        "voc = vectorizer.get_vocabulary()\n",
        "print (\"voc length : {}\".format(len(voc)))\n",
        "# del voc[1]\n",
        "word_index = dict(zip(voc, range(len(voc))))\n",
        "index_word = dict(zip(range(len(voc)), voc))\n",
        "embeddings_index = {}\n",
        "with open(data_path + \"glove.6B.50d.txt\") as f:\n",
        "    for line in f:\n",
        "        word, coefs = line.split(maxsplit=1)\n",
        "        coefs = np.fromstring(coefs, \"f\", sep=\" \")\n",
        "        embeddings_index[word] = coefs\n",
        "\n",
        "print(\"Found %s word vectors.\" % len(embeddings_index))\n",
        "num_tokens = len(voc) \n",
        "embedding_dim = 50\n",
        "hits = 0\n",
        "misses = 0\n",
        "\n",
        "# Prepare embedding matrix\n",
        "embedding_matrix = np.zeros((num_tokens, embedding_dim))\n",
        "for word, i in word_index.items():\n",
        "    embedding_vector = embeddings_index.get(word)\n",
        "    if embedding_vector is not None:\n",
        "        # Words not found in embedding index will be all-zeros.\n",
        "        # This includes the representation for \"padding\" and \"OOV\"\n",
        "        embedding_matrix[i] = embedding_vector\n",
        "        hits += 1\n",
        "    else:\n",
        "        misses += 1\n",
        "print(\"Converted %d words (%d misses)\" % (hits, misses))\n",
        "print (\"Embeding matrix shape : {}\".format(embedding_matrix.shape))"
      ],
      "execution_count": 7,
      "outputs": [
        {
          "output_type": "stream",
          "text": [
            "max token length : 8922\n",
            "voc length : 8923\n",
            "Found 400000 word vectors.\n",
            "Converted 8364 words (559 misses)\n",
            "Embeding matrix shape : (8923, 50)\n"
          ],
          "name": "stdout"
        }
      ]
    },
    {
      "cell_type": "markdown",
      "metadata": {
        "id": "PCsVgkaZPTZW"
      },
      "source": [
        ""
      ]
    },
    {
      "cell_type": "code",
      "metadata": {
        "id": "7Kg1EuUQrew_"
      },
      "source": [
        "# load image and preprocess to the format compatible to inception_v3\n",
        "import cv2\n",
        "def load_image(image_path):\n",
        "    img = cv2.imread(image_path)\n",
        "    img = cv2.resize(img, (299, 299))\n",
        "    img = tf.keras.applications.inception_v3.preprocess_input(img)\n",
        "    \n",
        "    return img"
      ],
      "execution_count": 8,
      "outputs": []
    },
    {
      "cell_type": "code",
      "metadata": {
        "id": "8J0TSfZfrmxy",
        "colab": {
          "base_uri": "https://localhost:8080/"
        },
        "outputId": "e56ab5f0-c9de-4ed0-c813-85217b6d0efc"
      },
      "source": [
        "# define InceptionV3 image feature extraction model \n",
        "image_model = tf.keras.applications.InceptionV3(include_top=True,\n",
        "                                                weights='imagenet')\n",
        "new_input = image_model.input\n",
        "hidden_layer = image_model.layers[-2].output\n",
        "image_features_extract_model = tf.keras.Model(new_input, hidden_layer)"
      ],
      "execution_count": 9,
      "outputs": [
        {
          "output_type": "stream",
          "text": [
            "Downloading data from https://storage.googleapis.com/tensorflow/keras-applications/inception_v3/inception_v3_weights_tf_dim_ordering_tf_kernels.h5\n",
            "96116736/96112376 [==============================] - 1s 0us/step\n"
          ],
          "name": "stdout"
        }
      ]
    },
    {
      "cell_type": "code",
      "metadata": {
        "id": "XDU8zyw_3rNJ"
      },
      "source": [
        "import numpy as np\n",
        "\n",
        "def get_angles(pos, i, d_model):\n",
        "  angle_rates = 1 / np.power(10000, (2 * (i//2)) / np.float32(d_model))\n",
        "  return pos * angle_rates\n",
        "def positional_encoding(position, d_model):\n",
        "  angle_rads = get_angles(np.arange(position)[:, np.newaxis],\n",
        "                          np.arange(d_model)[np.newaxis, :],\n",
        "                          d_model)\n",
        "\n",
        "  \n",
        "  angle_rads[:, 0::2] = np.sin(angle_rads[:, 0::2])\n",
        "\n",
        "\n",
        "  angle_rads[:, 1::2] = np.cos(angle_rads[:, 1::2])\n",
        "\n",
        "  pos_encoding = angle_rads[np.newaxis, ...]\n",
        "\n",
        "  return tf.cast(pos_encoding, dtype=tf.float32)\n"
      ],
      "execution_count": 10,
      "outputs": []
    },
    {
      "cell_type": "code",
      "metadata": {
        "id": "104Y2EUm39Js"
      },
      "source": [
        "def create_padding_mask(seq):\n",
        "  seq = tf.cast(tf.math.equal(seq, 0), tf.float32)\n",
        "  return seq[:, tf.newaxis, tf.newaxis, :]  # (batch_size, 1, 1, seq_len)\n",
        "\n",
        "def create_look_ahead_mask(size):\n",
        "  mask = 1 - tf.linalg.band_part(tf.ones((size, size)), -1, 0)\n",
        "  return mask  # (seq_len, seq_len)\n",
        "def scaled_dot_product_attention(q, k, v, mask):\n",
        "  \n",
        "\n",
        "  matmul_qk = tf.matmul(q, k, transpose_b=True)  # (..., seq_len_q, seq_len_k)\n",
        "\n",
        "  \n",
        "  dk = tf.cast(tf.shape(k)[-1], tf.float32)\n",
        "  scaled_attention_logits = matmul_qk / tf.math.sqrt(dk)\n",
        "\n",
        " \n",
        "  if mask is not None:\n",
        "    scaled_attention_logits += (mask * -1e9)  \n",
        "\n",
        "\n",
        "  attention_weights = tf.nn.softmax(scaled_attention_logits, axis=-1)  # (..., seq_len_q, seq_len_k)\n",
        "\n",
        "  output = tf.matmul(attention_weights, v)  # (..., seq_len_q, depth_v)\n",
        "\n",
        "  return output, attention_weights "
      ],
      "execution_count": 12,
      "outputs": []
    },
    {
      "cell_type": "code",
      "metadata": {
        "id": "h9TwT-MN4X1H"
      },
      "source": [
        "class MultiHeadAttention(tf.keras.layers.Layer):\n",
        "  def __init__(self, d_model, num_heads):\n",
        "    super(MultiHeadAttention, self).__init__()\n",
        "    self.num_heads = num_heads\n",
        "    self.d_model = d_model\n",
        "\n",
        "    assert d_model % self.num_heads == 0\n",
        "\n",
        "    self.depth = d_model // self.num_heads\n",
        "\n",
        "    self.wq = tf.keras.layers.Dense(d_model)\n",
        "    self.wk = tf.keras.layers.Dense(d_model)\n",
        "    self.wv = tf.keras.layers.Dense(d_model)\n",
        "\n",
        "    self.dense = tf.keras.layers.Dense(d_model)\n",
        "\n",
        "  def split_heads(self, x,batch_size):\n",
        "    \"\"\"分拆最后一个维度到 (num_heads, depth).\n",
        "    转置结果使得形状为 (batch_size, num_heads, seq_len, depth)\n",
        "    \"\"\"\n",
        "    x = tf.reshape(x, (batch_size, -1, self.num_heads, self.depth))\n",
        "    return tf.transpose(x, perm=[0, 2, 1, 3])\n",
        "\n",
        "  def call(self, v, k, q, mask):\n",
        "    batch_size = tf.shape(q)[0]\n",
        "\n",
        "    q = self.wq(q)  # (batch_size, seq_len, d_model)\n",
        "    k = self.wk(k)  # (batch_size, seq_len, d_model)\n",
        "    v = self.wv(v)  # (batch_size, seq_len, d_model)\n",
        "\n",
        "    q = self.split_heads(q, batch_size)  # (batch_size, num_heads, seq_len_q, depth)\n",
        "    k = self.split_heads(k, batch_size)  # (batch_size, num_heads, seq_len_k, depth)\n",
        "    v = self.split_heads(v, batch_size)  # (batch_size, num_heads, seq_len_v, depth)\n",
        "\n",
        "    # scaled_attention.shape == (batch_size, num_heads, seq_len_q, depth)\n",
        "    # attention_weights.shape == (batch_size, num_heads, seq_len_q, seq_len_k)\n",
        "    scaled_attention, attention_weights = scaled_dot_product_attention(\n",
        "        q, k, v, mask)\n",
        "\n",
        "    scaled_attention = tf.transpose(scaled_attention, perm=[0, 2, 1, 3])  # (batch_size, seq_len_q, num_heads, depth)\n",
        "\n",
        "    concat_attention = tf.reshape(scaled_attention, \n",
        "                                  (batch_size, -1, self.d_model))  # (batch_size, seq_len_q, d_model)\n",
        "\n",
        "    output = self.dense(concat_attention)  # (batch_size, seq_len_q, d_model)\n",
        "\n",
        "    return output, attention_weights"
      ],
      "execution_count": 13,
      "outputs": []
    },
    {
      "cell_type": "code",
      "metadata": {
        "id": "Y2uJguYk4isI"
      },
      "source": [
        "def point_wise_feed_forward_network(d_model, dff):\n",
        "  return tf.keras.Sequential([\n",
        "      tf.keras.layers.Dense(dff, activation='relu'),  # (batch_size, seq_len, dff)\n",
        "      tf.keras.layers.Dense(d_model)  # (batch_size, seq_len, d_model)\n",
        "  ])\n"
      ],
      "execution_count": 14,
      "outputs": []
    },
    {
      "cell_type": "code",
      "metadata": {
        "id": "fmqkqJeq4nRD"
      },
      "source": [
        "class DecoderLayer(tf.keras.layers.Layer):\n",
        "  def __init__(self, d_model, num_heads, dff, rate=0.1):\n",
        "    super(DecoderLayer, self).__init__()\n",
        "\n",
        "    self.mha1 = MultiHeadAttention(d_model, num_heads)\n",
        "    self.mha2 = MultiHeadAttention(d_model, num_heads)\n",
        "\n",
        "    self.ffn = point_wise_feed_forward_network(d_model, dff)\n",
        "\n",
        "    self.layernorm1 = tf.keras.layers.LayerNormalization(epsilon=1e-6)\n",
        "    self.layernorm2 = tf.keras.layers.LayerNormalization(epsilon=1e-6)\n",
        "    self.layernorm3 = tf.keras.layers.LayerNormalization(epsilon=1e-6)\n",
        "\n",
        "    self.dropout1 = tf.keras.layers.Dropout(rate)\n",
        "    self.dropout2 = tf.keras.layers.Dropout(rate)\n",
        "    self.dropout3 = tf.keras.layers.Dropout(rate)\n",
        "\n",
        "\n",
        "\n",
        "  def call(self, x, enc_output, \n",
        "           look_ahead_mask, padding_mask):\n",
        "    # enc_output.shape == (batch_size, input_seq_len, d_model)\n",
        "\n",
        "    attn1, attn_weights_block1 = self.mha1(x, x, x, look_ahead_mask)  # (batch_size, target_seq_len, d_model)\n",
        "    attn1 = self.dropout1(attn1)\n",
        "    out1 = self.layernorm1(attn1 + x)\n",
        "\n",
        "    attn2, attn_weights_block2 = self.mha2(\n",
        "        enc_output, enc_output, out1, padding_mask)  # (batch_size, target_seq_len, d_model)\n",
        "    attn2 = self.dropout2(attn2)\n",
        "    out2 = self.layernorm2(attn2 + out1)  # (batch_size, target_seq_len, d_model)\n",
        "\n",
        "    ffn_output = self.ffn(out2)  # (batch_size, target_seq_len, d_model)\n",
        "    ffn_output = self.dropout3(ffn_output)\n",
        "    out3 = self.layernorm3(ffn_output + out2)  # (batch_size, target_seq_len, d_model)\n",
        "\n",
        "    return out3, attn_weights_block1, attn_weights_block2"
      ],
      "execution_count": 15,
      "outputs": []
    },
    {
      "cell_type": "code",
      "metadata": {
        "id": "5JqkkJ0H4znl"
      },
      "source": [
        "class Decoder(tf.keras.layers.Layer):\n",
        "  def __init__(self, num_layers, d_model, num_heads, dff, target_vocab_size,\n",
        "               maximum_position_encoding, rate=0.1):\n",
        "    super(Decoder, self).__init__()\n",
        "\n",
        "    self.d_model = d_model\n",
        "    self.num_layers = num_layers\n",
        "\n",
        "    self.embedding = tf.keras.layers.Embedding(target_vocab_size, d_model,embeddings_initializer=tf.keras.initializers.Constant(embedding_matrix), trainable=False)\n",
        "    self.pos_encoding = positional_encoding(maximum_position_encoding, d_model)\n",
        "\n",
        "    self.dec_layers = [DecoderLayer(d_model, num_heads, dff, rate) \n",
        "                       for _ in range(num_layers)]\n",
        "    self.dropout = tf.keras.layers.Dropout(rate)\n",
        "\n",
        "  def call(self, x, enc_output,  \n",
        "           look_ahead_mask, padding_mask):\n",
        "\n",
        "    seq_len = tf.shape(x)[1]\n",
        "    attention_weights = {}\n",
        "\n",
        "    x = self.embedding(x)  # (batch_size, target_seq_len, d_model)\n",
        "    x *= tf.math.sqrt(tf.cast(self.d_model, tf.float32))\n",
        "    x += self.pos_encoding[:, :seq_len, :]\n",
        "\n",
        "    x = self.dropout(x)\n",
        "\n",
        "    for i in range(self.num_layers):\n",
        "      x, block1, block2 = self.dec_layers[i](x, enc_output, \n",
        "                                             look_ahead_mask, padding_mask)\n",
        "\n",
        "      attention_weights['decoder_layer{}_block1'.format(i+1)] = block1\n",
        "      attention_weights['decoder_layer{}_block2'.format(i+1)] = block2\n",
        "\n",
        "    # x.shape == (batch_size, target_seq_len, d_model)\n",
        "    return x, attention_weights"
      ],
      "execution_count": 16,
      "outputs": []
    },
    {
      "cell_type": "code",
      "metadata": {
        "id": "x_MIMGFm49CG"
      },
      "source": [
        "class Transformer(tf.keras.layers.Layer):\n",
        "  def __init__(self, num_layers, d_model, max_len,num_heads, dff,  \n",
        "               target_vocab_size,  pe_target, rate=0.1):\n",
        "    super(Transformer, self).__init__()\n",
        "\n",
        "    self.encoder = tf.keras.layers.Dense(d_model*max_len)\n",
        "\n",
        "    self.decoder = Decoder(num_layers, d_model, num_heads, dff, \n",
        "                           target_vocab_size, pe_target, rate)\n",
        "\n",
        "    self.final_layer = tf.keras.layers.Dense(target_vocab_size,activation='softmax')\n",
        "    self.max_len = max_len\n",
        "    self.d_model = d_model\n",
        "\n",
        "  def call(self, inp, tar):\n",
        "    look_ahead_mask = create_look_ahead_mask(tf.shape(tar)[1])\n",
        "    dec_target_padding_mask = create_padding_mask(tar)\n",
        "    # combined_mask = tf.maximum(dec_target_padding_mask, look_ahead_mask)\n",
        "\n",
        "    enc_output = self.encoder(inp)  # (batch_size, inp_seq_len, d_model)\n",
        "    enc_output = tf.reshape(enc_output,(-1,self.max_len,self.d_model))\n",
        "    # dec_output.shape == (batch_size, tar_seq_len, d_model)\n",
        "    dec_output, attention_weights = self.decoder(\n",
        "        tar, enc_output, look_ahead_mask,  dec_target_padding_mask)\n",
        "\n",
        "    final_output = self.final_layer(dec_output)  # (batch_size, tar_seq_len, target_vocab_size)\n",
        "\n",
        "\n",
        "    return final_output"
      ],
      "execution_count": 17,
      "outputs": []
    },
    {
      "cell_type": "code",
      "metadata": {
        "colab": {
          "base_uri": "https://localhost:8080/",
          "height": 469
        },
        "id": "uB-twoOx8Ujs",
        "outputId": "67e781a2-6f01-4a50-9da4-3d38f072c824"
      },
      "source": [
        "from keras.utils.vis_utils import plot_model\n",
        "from tensorflow.keras.callbacks import EarlyStopping, ReduceLROnPlateau\n",
        "num_layers = 6\n",
        "dff=512\n",
        "d_model=50\n",
        "num_heads = 5\n",
        "dropout_rate = 0.1\n",
        "target_vocab_size = len(voc)\n",
        "maximum_position_encoding=61\n",
        "max_len=61\n",
        "input1 = tf.keras.layers.Input(shape=(1,2048))\n",
        "input2 = tf.keras.layers.Input(shape=(None,))\n",
        "transformer = Transformer(num_layers, d_model,max_len, num_heads, dff, target_vocab_size,\n",
        "                          pe_target=target_vocab_size,\n",
        "                          rate=dropout_rate)\n",
        "\n",
        "outputs = transformer(input1, input2)\n",
        "\n",
        "caption_model = Model(inputs=[input1, input2], outputs=outputs)\n",
        "# Checkpoint\n",
        "checkpoint_filepath = '/content/drive/MyDrive/checkpoint_models_hj/checkpoint5.ckpt'\n",
        "model_checkpoint_callback = tf.keras.callbacks.ModelCheckpoint(\n",
        "    filepath=checkpoint_filepath,\n",
        "    save_weights_only=True,\n",
        "    monitor='val_loss',\n",
        "    mode='min',\n",
        "    save_best_only=True)\n",
        "class CustomSchedule(tf.keras.optimizers.schedules.LearningRateSchedule):\n",
        "  def __init__(self, d_model, warmup_steps=4000):\n",
        "    super(CustomSchedule, self).__init__()\n",
        "\n",
        "    self.d_model = d_model\n",
        "    self.d_model = tf.cast(self.d_model, tf.float32)\n",
        "\n",
        "    self.warmup_steps = warmup_steps\n",
        "\n",
        "  def __call__(self, step):\n",
        "    arg1 = tf.math.rsqrt(step)\n",
        "    arg2 = step * (self.warmup_steps ** -1.5)\n",
        "\n",
        "    return tf.math.rsqrt(self.d_model) * tf.math.minimum(arg1, arg2)\n",
        "learning_rate = CustomSchedule(d_model)\n",
        "\n",
        "optimizer = tf.keras.optimizers.Adam(learning_rate, beta_1=0.9, beta_2=0.98, \n",
        "                                     epsilon=1e-9)\n",
        "# Early Stopping\n",
        "earlystopping = EarlyStopping(monitor=\"val_loss\", patience=3, verbose=1, restore_best_weights=True, mode='min')\n",
        "\n",
        "caption_model.compile(loss='SparseCategoricalCrossentropy', optimizer=optimizer, metrics=['accuracy'])\n",
        "\n",
        "caption_model.summary()\n",
        "plot_model(caption_model, to_file='model.png', show_shapes=True, show_layer_names=True)\n"
      ],
      "execution_count": 18,
      "outputs": [
        {
          "output_type": "stream",
          "text": [
            "Model: \"model_1\"\n",
            "__________________________________________________________________________________________________\n",
            "Layer (type)                    Output Shape         Param #     Connected to                     \n",
            "==================================================================================================\n",
            "input_2 (InputLayer)            [(None, 1, 2048)]    0                                            \n",
            "__________________________________________________________________________________________________\n",
            "input_3 (InputLayer)            [(None, None)]       0                                            \n",
            "__________________________________________________________________________________________________\n",
            "transformer (Transformer)       (None, None, 8923)   7585445     input_2[0][0]                    \n",
            "                                                                 input_3[0][0]                    \n",
            "==================================================================================================\n",
            "Total params: 7,585,445\n",
            "Trainable params: 7,139,295\n",
            "Non-trainable params: 446,150\n",
            "__________________________________________________________________________________________________\n"
          ],
          "name": "stdout"
        },
        {
          "output_type": "execute_result",
          "data": {
            "image/png": "[encoded data removed]",
            "text/plain": [
              "<IPython.core.display.Image object>"
            ]
          },
          "metadata": {
            "tags": []
          },
          "execution_count": 18
        }
      ]
    },
    {
      "cell_type": "code",
      "metadata": {
        "colab": {
          "base_uri": "https://localhost:8080/"
        },
        "id": "GRwhtFOqTjyW",
        "outputId": "f6caa008-9cfb-4e4d-e546-36c7747445d9"
      },
      "source": [
        "class Generator(tf.keras.utils.Sequence) :\n",
        "  \n",
        "  def __init__(self, df, batch_size) :\n",
        "    self.paths = df.img_path.values\n",
        "    self.descriptions = df.description.values\n",
        "    self.batch_size = batch_size  \n",
        "    # self.on_epoch_end()\n",
        "    \n",
        "  def __len__(self) :\n",
        "    return (np.ceil(len(self.paths) / float(self.batch_size))).astype(np.int)\n",
        "  \n",
        "  \n",
        "  def __getitem__(self, idx) :\n",
        "    images = np.array([load_image(path) for path in self.paths[idx * self.batch_size : (idx+1) * self.batch_size]])\n",
        "    image_features = image_features_extract_model(images)\n",
        "    image_features = tf.reshape(image_features,\n",
        "                              (image_features.shape[0], -1,image_features.shape[1]))\n",
        "   \n",
        "    texts = np.array(self.descriptions[idx * self.batch_size : (idx+1) * self.batch_size])\n",
        "    texts = vectorizer(texts)\n",
        "    x2 = texts[:,:-1]\n",
        "    y = texts[:,1:]\n",
        "    return [image_features,x2], y \n",
        "\n",
        "df_train = df.sample(frac=0.8, random_state=123)\n",
        "df_validation = df.loc[~df.index.isin(df_train.index)]\n",
        "df_train = df_train.reset_index()\n",
        "df_validation = df_validation.reset_index()\n",
        "print (\"train size : \", df_train.shape[0])\n",
        "print (\"validation size : \", df_validation.shape[0])\n",
        "BATCH_SIZE = 20\n",
        "train_generator = Generator(df_train, BATCH_SIZE)\n",
        "validation_generator = Generator(df_validation, BATCH_SIZE)"
      ],
      "execution_count": 19,
      "outputs": [
        {
          "output_type": "stream",
          "text": [
            "train size :  14944\n",
            "validation size :  3736\n"
          ],
          "name": "stdout"
        }
      ]
    },
    {
      "cell_type": "code",
      "metadata": {
        "id": "SQmypX6JQj16"
      },
      "source": [
        "# load_image(df.img_path[0])"
      ],
      "execution_count": 56,
      "outputs": []
    },
    {
      "cell_type": "markdown",
      "metadata": {
        "id": "8mHlWx8yNEnv"
      },
      "source": [
        "**Model Training**"
      ]
    },
    {
      "cell_type": "code",
      "metadata": {
        "id": "5vHlXWTTKsR6"
      },
      "source": [
        "# Model Training (1st epoch)\n",
        "caption_model.fit(train_generator, \n",
        "                  validation_data=validation_generator, \n",
        "                  epochs=2, \n",
        "                  verbose=1, \n",
        "                  callbacks=[earlystopping, model_checkpoint_callback])"
      ],
      "execution_count": null,
      "outputs": []
    },
    {
      "cell_type": "code",
      "metadata": {
        "colab": {
          "base_uri": "https://localhost:8080/"
        },
        "id": "vV0qfrGQ0d7K",
        "outputId": "c6ae296c-4de1-409a-d04d-7424ff8b4153"
      },
      "source": [
        "my_filepath = '/content/drive/MyDrive/checkpoint_models_hj/checkpoint5.ckpt'\n",
        "# caption_model.save_weights(my_filepath)\n",
        "caption_model.load_weights(my_filepath)"
      ],
      "execution_count": 20,
      "outputs": [
        {
          "output_type": "execute_result",
          "data": {
            "text/plain": [
              "<tensorflow.python.training.tracking.util.CheckpointLoadStatus at 0x7f95c1acbdd0>"
            ]
          },
          "metadata": {
            "tags": []
          },
          "execution_count": 20
        }
      ]
    },
    {
      "cell_type": "code",
      "metadata": {
        "colab": {
          "base_uri": "https://localhost:8080/"
        },
        "id": "i-Bw0iPVWtcn",
        "outputId": "2f2eed3d-e1dc-476c-fb82-544b720daf57"
      },
      "source": [
        "caption_model.fit(train_generator, \n",
        "                  validation_data=validation_generator, \n",
        "                  epochs=8, \n",
        "                  verbose=1, \n",
        "                  callbacks=[earlystopping, model_checkpoint_callback])"
      ],
      "execution_count": 67,
      "outputs": [
        {
          "output_type": "stream",
          "text": [
            "Epoch 1/8\n",
            "748/748 [==============================] - 511s 665ms/step - loss: 2.2670 - accuracy: 0.6146 - val_loss: 2.0004 - val_accuracy: 0.6533\n",
            "Epoch 2/8\n",
            "748/748 [==============================] - 498s 666ms/step - loss: 1.9950 - accuracy: 0.6481 - val_loss: 1.7972 - val_accuracy: 0.6822\n",
            "Epoch 3/8\n",
            "748/748 [==============================] - 494s 660ms/step - loss: 1.7825 - accuracy: 0.6800 - val_loss: 1.6654 - val_accuracy: 0.7033\n",
            "Epoch 4/8\n",
            "748/748 [==============================] - 492s 658ms/step - loss: 1.6665 - accuracy: 0.6968 - val_loss: 1.5517 - val_accuracy: 0.7199\n",
            "Epoch 5/8\n",
            "748/748 [==============================] - 496s 663ms/step - loss: 1.5516 - accuracy: 0.7141 - val_loss: 1.5013 - val_accuracy: 0.7279\n",
            "Epoch 6/8\n",
            "748/748 [==============================] - 496s 663ms/step - loss: 1.4789 - accuracy: 0.7242 - val_loss: 1.4448 - val_accuracy: 0.7371\n",
            "Epoch 7/8\n",
            "748/748 [==============================] - 503s 672ms/step - loss: 1.4245 - accuracy: 0.7323 - val_loss: 1.4219 - val_accuracy: 0.7410\n",
            "Epoch 8/8\n",
            "748/748 [==============================] - 500s 668ms/step - loss: 1.3901 - accuracy: 0.7373 - val_loss: 1.3936 - val_accuracy: 0.7464\n"
          ],
          "name": "stdout"
        },
        {
          "output_type": "execute_result",
          "data": {
            "text/plain": [
              "<tensorflow.python.keras.callbacks.History at 0x7faa08376d10>"
            ]
          },
          "metadata": {
            "tags": []
          },
          "execution_count": 67
        }
      ]
    },
    {
      "cell_type": "markdown",
      "metadata": {
        "id": "o7vxxQT_N16Q"
      },
      "source": [
        "**Generate captions from trained model**"
      ]
    },
    {
      "cell_type": "code",
      "metadata": {
        "id": "-RHMs-zRqiD-"
      },
      "source": [
        "def generateCaption(img_path):\n",
        "  photo = load_image(img_path)\n",
        "  photo = tf.reshape(photo,(1,photo.shape[0],photo.shape[1],photo.shape[2]))\n",
        "  photo = image_features_extract_model(photo)\n",
        "  photo = tf.reshape(photo,(-1,1,2048))\n",
        "  # print (\"photo {}\".format(photo.shape))\n",
        "  in_text = 'ss'\n",
        "  for i in range(61):\n",
        "      # print ('in text : {}'.format(in_text))\n",
        "      sequence = np.array([word_index[w] for w in in_text.split() if w in word_index])\n",
        "      sequence = pad_sequences([sequence],maxlen = max_len,padding='post',truncating='post')\n",
        "      yhat = caption_model.predict([photo,sequence], verbose=0)\n",
        "      yhat = np.argmax(yhat.reshape(-1,max_tokens+1),axis=1)\n",
        "      output = yhat[i]\n",
        "      if index_word[output] == 'ee':\n",
        "        break\n",
        "      # print (\"output : {}\".format(output))\n",
        "      in_text  +=  ' ' + index_word[output]\n",
        "\n",
        "  return \"\" if in_text == 'ss' else in_text[3:]"
      ],
      "execution_count": 24,
      "outputs": []
    },
    {
      "cell_type": "code",
      "metadata": {
        "id": "eTeyPvY_uISL",
        "colab": {
          "base_uri": "https://localhost:8080/",
          "height": 322
        },
        "outputId": "07ba57fb-2cee-4e4b-9223-5d2d6f0610a8"
      },
      "source": [
        "import matplotlib.pyplot as plt\n",
        "from PIL import Image\n",
        "from io import BytesIO\n",
        "final = generateCaption(df.img_path[300])\n",
        "img = cv2.imread(df.img_path[300])\n",
        "print(final)\n",
        "plt.imshow(img)"
      ],
      "execution_count": 25,
      "outputs": [
        {
          "output_type": "stream",
          "text": [
            "neck top in soft jersey with a round neckline and short sleeves                                                 \n"
          ],
          "name": "stdout"
        },
        {
          "output_type": "execute_result",
          "data": {
            "text/plain": [
              "<matplotlib.image.AxesImage at 0x7f95c0f27250>"
            ]
          },
          "metadata": {
            "tags": []
          },
          "execution_count": 25
        },
        {
          "output_type": "display_data",
          "data": {
            "image/png": "[encoded data removed]",
            "text/plain": [
              "<Figure size 432x288 with 1 Axes>"
            ]
          },
          "metadata": {
            "tags": [],
            "needs_background": "light"
          }
        }
      ]
    },
    {
      "cell_type": "code",
      "metadata": {
        "id": "UK0JXO_jIh4c",
        "colab": {
          "base_uri": "https://localhost:8080/"
        },
        "outputId": "dde00a40-a1f5-4a92-db7d-8786cc1d43d0"
      },
      "source": [
        "# pandarallel.initialize(progress_bar  = True)\n",
        "from tqdm import tqdm\n",
        "tqdm.pandas()\n",
        "df_validation['pred_cap'] = df_validation['img_path'].progress_apply(generateCaption)"
      ],
      "execution_count": 29,
      "outputs": [
        {
          "output_type": "stream",
          "text": [
            "/usr/local/lib/python3.7/dist-packages/tqdm/std.py:658: FutureWarning: The Panel class is removed from pandas. Accessing it from the top-level namespace will also be removed in the next version\n",
            "  from pandas import Panel\n",
            "100%|██████████| 3736/3736 [4:30:21<00:00,  4.34s/it]\n"
          ],
          "name": "stderr"
        }
      ]
    },
    {
      "cell_type": "code",
      "metadata": {
        "id": "_Q0MA07C6M7I"
      },
      "source": [
        "df_validation.to_csv( '/content/drive/MyDrive/df_validation.csv')"
      ],
      "execution_count": 30,
      "outputs": []
    },
    {
      "cell_type": "code",
      "metadata": {
        "id": "xOumI3mu4RNu",
        "outputId": "75b9ac7e-f08d-43fc-87f1-fa318947d21e",
        "colab": {
          "base_uri": "https://localhost:8080/"
        }
      },
      "source": [
        "len(df_validation.pred_cap.unique())"
      ],
      "execution_count": 32,
      "outputs": [
        {
          "output_type": "execute_result",
          "data": {
            "text/plain": [
              "2387"
            ]
          },
          "metadata": {
            "tags": []
          },
          "execution_count": 32
        }
      ]
    },
    {
      "cell_type": "code",
      "metadata": {
        "id": "tb9DnaBLFCtx",
        "outputId": "ed5bf9af-7837-476d-be25-47e9e02b03ec",
        "colab": {
          "base_uri": "https://localhost:8080/"
        }
      },
      "source": [
        "df_validation.pred_cap.apply(lambda x: len(x.split())).describe()"
      ],
      "execution_count": 41,
      "outputs": [
        {
          "output_type": "execute_result",
          "data": {
            "text/plain": [
              "count    3736.000000\n",
              "mean        9.131424\n",
              "std         3.616061\n",
              "min         0.000000\n",
              "25%         8.000000\n",
              "50%         9.000000\n",
              "75%        11.000000\n",
              "max        61.000000\n",
              "Name: pred_cap, dtype: float64"
            ]
          },
          "metadata": {
            "tags": []
          },
          "execution_count": 41
        }
      ]
    },
    {
      "cell_type": "code",
      "metadata": {
        "id": "NrR8lf9FHTpe",
        "outputId": "3faba256-7fc4-4c09-aed2-1982a5ed9e14",
        "colab": {
          "base_uri": "https://localhost:8080/"
        }
      },
      "source": [
        "for i in df_validation.pred_cap[:20]:\n",
        "  print(i)"
      ],
      "execution_count": 62,
      "outputs": [
        {
          "output_type": "stream",
          "text": [
            "a classic design for easy colours                                                       \n",
            "and comfortable cotton shorts featuring a unique block design                                                    \n",
            "and sporty design the it sportswear construction gives this polo brand a modern look                                               \n",
            "dress with a bold tie dye finish                                                      \n",
            "shorts with a detachable tie belt at the waist and a slit                                                 \n",
            "and sporty design the it sportswear jacket is perfect for everyday wear                                                 \n",
            "and sporty design for easy colours                                                       \n",
            "neck jumper in soft cotton jersey with a high waist                                                   \n",
            "and sporty design make this polo dress a stylish look                                                   \n",
            "neck jumper in soft jersey with a high waist and wide straight legs                                                \n",
            "the it dri fit is perfect for wearing                                                     \n",
            "the it sportswear trousers are made of soft woven fabric                                                   \n",
            "the classic design of the classic design of this business brand                                                  \n",
            "and timeless design the it sportswear jacket is perfect for everyday wear                                                 \n",
            "dress with a high waist and elasticated                                                      \n",
            "and modern design the it sportswear jacket is perfect for everyday wear                                                 \n",
            "neck jumper in stretch jersey with a high waist and elasticated                                                  \n",
            "the it sportswear t brand is a timeless piece                                                    \n",
            "shorts with a togetherness color block design                                                      \n",
            "neck top in woven fabric with a round neckline and long sleeves                                                 \n"
          ],
          "name": "stdout"
        }
      ]
    },
    {
      "cell_type": "code",
      "metadata": {
        "id": "FtzlpgUE46LT"
      },
      "source": [
        "from nltk.translate.bleu_score import SmoothingFunction\n",
        "from nltk.translate.bleu_score import sentence_bleu"
      ],
      "execution_count": 33,
      "outputs": []
    },
    {
      "cell_type": "code",
      "metadata": {
        "id": "ukjsmLyoBHP5"
      },
      "source": [
        "def bleu_score(df):\n",
        "  bleu1=[]\n",
        "  bleu2 =[]\n",
        "  bleu3 = []\n",
        "  bleu4=[]\n",
        "  real_cap=df.Description.apply(lambda x: x.split()[:32] if len(x.split())>32 else x.split() )\n",
        "  # real_cap = df.Description\n",
        "  pred_cap=df.pred_cap\n",
        "  for i in range(len(df)):\n",
        "    bleu1.append(sentence_bleu([real_cap[i]],pred_cap[i].split(),weights=(1,0,0,0),smoothing_function=SmoothingFunction().method1))\n",
        "    bleu2.append(sentence_bleu([real_cap[i]],pred_cap[i].split(),weights=(0.5,0.5,0,0),smoothing_function=SmoothingFunction().method1))\n",
        "    bleu3.append(sentence_bleu([real_cap[i]],pred_cap[i].split(),weights=(0.3,0.3,0.3,0),smoothing_function=SmoothingFunction().method1))\n",
        "    bleu4.append(sentence_bleu([real_cap[i]],pred_cap[i].split(),weights=(0.25,0.25,0.25,0.25),smoothing_function=SmoothingFunction().method1))\n",
        "  df['bleu1']= bleu1\n",
        "  df['bleu2']= bleu2\n",
        "  df['bleu3']= bleu3\n",
        "  df['bleu4']= bleu4\n",
        "  return df\n",
        "\n",
        "  "
      ],
      "execution_count": 51,
      "outputs": []
    },
    {
      "cell_type": "code",
      "metadata": {
        "id": "r6htOoY9DL7h"
      },
      "source": [
        "df_validation = bleu_score(df_validation)"
      ],
      "execution_count": 52,
      "outputs": []
    },
    {
      "cell_type": "code",
      "metadata": {
        "id": "HkMc9wEYDpF5",
        "outputId": "bbf7c734-81b7-43c2-a66a-e81f411e4e42",
        "colab": {
          "base_uri": "https://localhost:8080/",
          "height": 319
        }
      },
      "source": [
        "print('bleu1 mean is {}'.format(df_validation.bleu1.mean()))\n",
        "df_validation.bleu1.hist()"
      ],
      "execution_count": 57,
      "outputs": [
        {
          "output_type": "stream",
          "text": [
            "bleu1 mean is 0.06908498988935895\n"
          ],
          "name": "stdout"
        },
        {
          "output_type": "execute_result",
          "data": {
            "text/plain": [
              "<matplotlib.axes._subplots.AxesSubplot at 0x7f95aa7bf7d0>"
            ]
          },
          "metadata": {
            "tags": []
          },
          "execution_count": 57
        },
        {
          "output_type": "display_data",
          "data": {
            "image/png": "[encoded data removed]",
            "text/plain": [
              "<Figure size 432x288 with 1 Axes>"
            ]
          },
          "metadata": {
            "tags": [],
            "needs_background": "light"
          }
        }
      ]
    },
    {
      "cell_type": "code",
      "metadata": {
        "id": "zb_MOl_TF35C",
        "outputId": "baa7a5dd-dc4e-4145-8865-de1961ee0ec5",
        "colab": {
          "base_uri": "https://localhost:8080/",
          "height": 319
        }
      },
      "source": [
        "print('bleu2 mean is {}'.format(df_validation.bleu2.mean()))\n",
        "df_validation.bleu2.hist()"
      ],
      "execution_count": 58,
      "outputs": [
        {
          "output_type": "stream",
          "text": [
            "bleu2 mean is 0.027501228883174824\n"
          ],
          "name": "stdout"
        },
        {
          "output_type": "execute_result",
          "data": {
            "text/plain": [
              "<matplotlib.axes._subplots.AxesSubplot at 0x7f95aa7972d0>"
            ]
          },
          "metadata": {
            "tags": []
          },
          "execution_count": 58
        },
        {
          "output_type": "display_data",
          "data": {
            "image/png": "[encoded data removed]",
            "text/plain": [
              "<Figure size 432x288 with 1 Axes>"
            ]
          },
          "metadata": {
            "tags": [],
            "needs_background": "light"
          }
        }
      ]
    },
    {
      "cell_type": "code",
      "metadata": {
        "id": "nL2AQx34F68S",
        "outputId": "849067bc-cf6a-40a5-d842-d27c6a888317",
        "colab": {
          "base_uri": "https://localhost:8080/",
          "height": 319
        }
      },
      "source": [
        "print('bleu3 mean is {}'.format(df_validation.bleu3.mean()))\n",
        "df_validation.bleu3.hist()"
      ],
      "execution_count": 59,
      "outputs": [
        {
          "output_type": "stream",
          "text": [
            "bleu3 mean is 0.018930506330937184\n"
          ],
          "name": "stdout"
        },
        {
          "output_type": "execute_result",
          "data": {
            "text/plain": [
              "<matplotlib.axes._subplots.AxesSubplot at 0x7f95aa710110>"
            ]
          },
          "metadata": {
            "tags": []
          },
          "execution_count": 59
        },
        {
          "output_type": "display_data",
          "data": {
            "image/png": "[encoded data removed]",
            "text/plain": [
              "<Figure size 432x288 with 1 Axes>"
            ]
          },
          "metadata": {
            "tags": [],
            "needs_background": "light"
          }
        }
      ]
    },
    {
      "cell_type": "code",
      "metadata": {
        "id": "R_RxM88jF_IR",
        "outputId": "5790f3f3-aa8d-4706-a264-88bdc7cd372a",
        "colab": {
          "base_uri": "https://localhost:8080/",
          "height": 319
        }
      },
      "source": [
        "print('bleu4 mean is {}'.format(df_validation.bleu4.mean()))\n",
        "df_validation.bleu4.hist()"
      ],
      "execution_count": 60,
      "outputs": [
        {
          "output_type": "stream",
          "text": [
            "bleu4 mean is 0.010345151687094394\n"
          ],
          "name": "stdout"
        },
        {
          "output_type": "execute_result",
          "data": {
            "text/plain": [
              "<matplotlib.axes._subplots.AxesSubplot at 0x7f95aa68f150>"
            ]
          },
          "metadata": {
            "tags": []
          },
          "execution_count": 60
        },
        {
          "output_type": "display_data",
          "data": {
            "image/png": "[encoded data removed]",
            "text/plain": [
              "<Figure size 432x288 with 1 Axes>"
            ]
          },
          "metadata": {
            "tags": [],
            "needs_background": "light"
          }
        }
      ]
    },
    {
      "cell_type": "code",
      "metadata": {
        "id": "cNozjKzDGCa6"
      },
      "source": [
        ""
      ],
      "execution_count": null,
      "outputs": []
    }
  ]
}